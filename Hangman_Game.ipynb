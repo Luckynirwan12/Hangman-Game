{
  "nbformat": 4,
  "nbformat_minor": 0,
  "metadata": {
    "colab": {
      "provenance": [],
      "authorship_tag": "ABX9TyMQm9+ZZt9tlNtS+Qqq8vi5",
      "include_colab_link": true
    },
    "kernelspec": {
      "name": "python3",
      "display_name": "Python 3"
    },
    "language_info": {
      "name": "python"
    }
  },
  "cells": [
    {
      "cell_type": "markdown",
      "metadata": {
        "id": "view-in-github",
        "colab_type": "text"
      },
      "source": [
        "<a href=\"https://colab.research.google.com/github/Luckynirwan12/Hangman-Game/blob/main/Hangman_Game.ipynb\" target=\"_parent\"><img src=\"https://colab.research.google.com/assets/colab-badge.svg\" alt=\"Open In Colab\"/></a>"
      ]
    },
    {
      "cell_type": "markdown",
      "source": [
        "## **Hangman Game**"
      ],
      "metadata": {
        "id": "GlsLM4DMH43G"
      }
    },
    {
      "cell_type": "code",
      "execution_count": 6,
      "metadata": {
        "colab": {
          "base_uri": "https://localhost:8080/"
        },
        "id": "Hp90SP-4F9pZ",
        "outputId": "2168f6e1-f97d-4c9f-9fd6-9d728b673452"
      },
      "outputs": [
        {
          "output_type": "stream",
          "name": "stdout",
          "text": [
            "Let's play Hangman!\n",
            "\n",
            "-----\n",
            "|   |\n",
            "O   |\n",
            "/|\\\\ |\n",
            "/ \\\\ |\n",
            "    |\n",
            "--------\n",
            "\n",
            "_ _ _ _ _ _ \n",
            "Tries left: 6\n",
            "Guess a letter: p\n",
            "Good job! 'p' is in the word.\n",
            "p _ _ _ _ _\n",
            "Tries left: 6\n",
            "Guess a letter: t\n",
            "Good job! 't' is in the word.\n",
            "p _ t _ _ _\n",
            "Tries left: 6\n",
            "Guess a letter: h\n",
            "Good job! 'h' is in the word.\n",
            "p _ t h _ _\n",
            "Tries left: 6\n",
            "Guess a letter: o\n",
            "Good job! 'o' is in the word.\n",
            "p _ t h o _\n",
            "Tries left: 6\n",
            "Guess a letter: n\n",
            "Good job! 'n' is in the word.\n",
            "p _ t h o n\n",
            "Tries left: 6\n",
            "Guess a letter: y\n",
            "Good job! 'y' is in the word.\n",
            "p y t h o n\n",
            "🎉 Congratulations! You guessed the word 'python' correctly.\n"
          ]
        }
      ],
      "source": [
        "import random\n",
        "\n",
        "# Function to select a random word from the words file\n",
        "def get_random_word(filename):\n",
        "    with open(filename, 'r') as file:\n",
        "        words = file.readlines()  # Read all lines (words)\n",
        "    words = [word.strip() for word in words]  # Remove whitespace and newline\n",
        "    return random.choice(words)  # Return a random word\n",
        "\n",
        "# Function to read hangman stages from a file\n",
        "def get_hangman_stages(filename):\n",
        "    with open(filename, 'r') as file:\n",
        "        stages = file.read().split('###')  # Split stages by '###'\n",
        "    return stages\n",
        "\n",
        "# Function to return the hangman stage based on remaining tries\n",
        "def display_hangman(stages, tries):\n",
        "    return stages[tries]\n",
        "\n",
        "# Main game function\n",
        "def play_game(words_file, stages_file):\n",
        "    word = get_random_word(words_file)  # Pick a random word\n",
        "    stages = get_hangman_stages(stages_file)  # Load hangman drawing stages\n",
        "    word_letters = set(word)  # Unique letters in the word\n",
        "    guessed_letters = set()  # All guessed letters\n",
        "    correct_letters = set()  # Correctly guessed letters\n",
        "    tries = 6  # Maximum incorrect attempts allowed\n",
        "\n",
        "    print(\"Let's play Hangman!\")\n",
        "    print(display_hangman(stages, tries))\n",
        "    print(\"_ \" * len(word))  # Initial word display\n",
        "\n",
        "    while tries > 0:\n",
        "        print(\"Tries left:\", tries)\n",
        "        guess = input(\"Guess a letter: \").lower()\n",
        "\n",
        "        # Input validation\n",
        "        if len(guess) != 1 or not guess.isalpha():\n",
        "            print(\"Invalid input. Please guess a single alphabet.\")\n",
        "            continue\n",
        "\n",
        "        # Check if already guessed\n",
        "        if guess in guessed_letters:\n",
        "            print(\"You already guessed that letter.\")\n",
        "            continue\n",
        "\n",
        "        guessed_letters.add(guess)\n",
        "\n",
        "        # If correct guess\n",
        "        if guess in word_letters:\n",
        "            correct_letters.add(guess)\n",
        "            print(f\"Good job! '{guess}' is in the word.\")\n",
        "        else:\n",
        "            tries -= 1\n",
        "            print(f\"Sorry, '{guess}' is not in the word.\")\n",
        "            print(display_hangman(stages, tries))  # Show updated hangman drawing\n",
        "\n",
        "        # Show current progress\n",
        "        current_word = [letter if letter in correct_letters else '_' for letter in word]\n",
        "        print(\" \".join(current_word))\n",
        "\n",
        "        # Check for win\n",
        "        if correct_letters == word_letters:\n",
        "            print(f\"🎉 Congratulations! You guessed the word '{word}' correctly.\")\n",
        "            return\n",
        "\n",
        "    # If out of tries\n",
        "    print(f\"❌ Game over! The word was '{word}'.\")\n",
        "\n",
        "# ✅ Entry point for the script\n",
        "if __name__ == \"__main__\":\n",
        "    words_file = 'words.txt'\n",
        "    stages_file = 'stages.txt'\n",
        "    play_game(words_file, stages_file)\n"
      ]
    }
  ]
}